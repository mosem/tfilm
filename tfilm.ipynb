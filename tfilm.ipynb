{
  "nbformat": 4,
  "nbformat_minor": 0,
  "metadata": {
    "colab": {
      "name": "tfilm.ipynb",
      "provenance": [],
      "collapsed_sections": [],
      "mount_file_id": "11oL-m8aU-0d9IAfmT-GH-5OgL6BrHj7J",
      "authorship_tag": "ABX9TyMMEW8Bxadzsl8Cp/VocEGl",
      "include_colab_link": true
    },
    "kernelspec": {
      "name": "python3",
      "display_name": "Python 3"
    },
    "language_info": {
      "name": "python"
    }
  },
  "cells": [
    {
      "cell_type": "markdown",
      "metadata": {
        "id": "view-in-github",
        "colab_type": "text"
      },
      "source": [
        "<a href=\"https://colab.research.google.com/github/mosem/tfilm/blob/master/tfilm.ipynb\" target=\"_parent\"><img src=\"https://colab.research.google.com/assets/colab-badge.svg\" alt=\"Open In Colab\"/></a>"
      ]
    },
    {
      "cell_type": "code",
      "execution_count": null,
      "metadata": {
        "id": "vPsVLLHOCDZ7"
      },
      "outputs": [],
      "source": [
        "!pip install tensorflow==2.4.1\n",
        "!pip install keras==2.4.0\n",
        "!pip install numpy==1.19.5\n",
        "!pip install scipy==1.6.0\n",
        "!pip install librosa==0.8.0\n",
        "!pip install h5py==2.10.0\n",
        "!pip install matplotlib==3.3.4"
      ]
    },
    {
      "cell_type": "code",
      "source": [
        "!git pull https://github.com/mosem/tfilm.git"
      ],
      "metadata": {
        "colab": {
          "base_uri": "https://localhost:8080/"
        },
        "id": "jHTtKubMDv8f",
        "outputId": "d7cdb72a-57e5-4d90-841c-f129499ca4f8"
      },
      "execution_count": null,
      "outputs": [
        {
          "output_type": "stream",
          "name": "stdout",
          "text": [
            "remote: Enumerating objects: 13, done.\u001b[K\n",
            "remote: Counting objects:   7% (1/13)\u001b[K\rremote: Counting objects:  15% (2/13)\u001b[K\rremote: Counting objects:  23% (3/13)\u001b[K\rremote: Counting objects:  30% (4/13)\u001b[K\rremote: Counting objects:  38% (5/13)\u001b[K\rremote: Counting objects:  46% (6/13)\u001b[K\rremote: Counting objects:  53% (7/13)\u001b[K\rremote: Counting objects:  61% (8/13)\u001b[K\rremote: Counting objects:  69% (9/13)\u001b[K\rremote: Counting objects:  76% (10/13)\u001b[K\rremote: Counting objects:  84% (11/13)\u001b[K\rremote: Counting objects:  92% (12/13)\u001b[K\rremote: Counting objects: 100% (13/13)\u001b[K\rremote: Counting objects: 100% (13/13), done.\u001b[K\n",
            "remote: Compressing objects:  25% (1/4)\u001b[K\rremote: Compressing objects:  50% (2/4)\u001b[K\rremote: Compressing objects:  75% (3/4)\u001b[K\rremote: Compressing objects: 100% (4/4)\u001b[K\rremote: Compressing objects: 100% (4/4), done.\u001b[K\n",
            "Unpacking objects:  14% (1/7)   \rUnpacking objects:  28% (2/7)   \rUnpacking objects:  42% (3/7)   \rUnpacking objects:  57% (4/7)   \rremote: Total 7 (delta 2), reused 7 (delta 2), pack-reused 0\u001b[K\n",
            "Unpacking objects:  71% (5/7)   \rUnpacking objects:  85% (6/7)   \rUnpacking objects: 100% (7/7)   \rUnpacking objects: 100% (7/7), done.\n",
            "From https://github.com/mosem/tfilm\n",
            " * branch            HEAD       -> FETCH_HEAD\n",
            "Updating b4724b5..b3fc9ca\n",
            "Fast-forward\n",
            " data/vctk/valentini/valentini-train-files.txt | 10713 \u001b[32m+++++++++++++++++++++++\u001b[m\u001b[31m-\u001b[m\n",
            " data/vctk/valentini/valentini-val-files.txt   |   875 \u001b[32m+\u001b[m\u001b[31m-\u001b[m\n",
            " 2 files changed, 11572 insertions(+), 16 deletions(-)\n"
          ]
        }
      ]
    },
    {
      "cell_type": "code",
      "source": [
        "!ls"
      ],
      "metadata": {
        "colab": {
          "base_uri": "https://localhost:8080/"
        },
        "id": "E-rDT0CYJZQJ",
        "outputId": "39c3c8a8-1819-4494-decb-0f9da1060e49"
      },
      "execution_count": null,
      "outputs": [
        {
          "output_type": "stream",
          "name": "stdout",
          "text": [
            "data  src  valentini.lr0.000300.1.g4.b64\n"
          ]
        }
      ]
    },
    {
      "cell_type": "code",
      "source": [
        "cd /content/tfilm/data/vctk/valentini/"
      ],
      "metadata": {
        "colab": {
          "base_uri": "https://localhost:8080/"
        },
        "id": "MOUETmhBJteX",
        "outputId": "29528e3a-17df-41f0-8642-d9a861b8e8a7"
      },
      "execution_count": null,
      "outputs": [
        {
          "output_type": "stream",
          "name": "stdout",
          "text": [
            "/content/tfilm/data/vctk/valentini\n"
          ]
        }
      ]
    },
    {
      "cell_type": "code",
      "source": [
        "!make;"
      ],
      "metadata": {
        "colab": {
          "base_uri": "https://localhost:8080/"
        },
        "id": "QwDd5TEdKDOf",
        "outputId": "c8e5f151-3272-4b7a-c2e7-b557e9d95442"
      },
      "execution_count": null,
      "outputs": [
        {
          "output_type": "stream",
          "name": "stdout",
          "text": [
            "make \\\n",
            "\tvctk-speaker1-train.4.16000.-1.4096.h5 \\\n",
            "\tvctk-speaker1-val.4.16000.-1.4096.h5\n",
            "make[1]: Entering directory '/content/tfilm/data/vctk/valentini'\n",
            "python ../prep_valentini.py \\\n",
            "\t--file-list valentini-train-files.txt \\\n",
            "\t--in-dir /content/drive/MyDrive/bwe/data/clean_trainset_16k \\\n",
            "\t--out vctk-speaker1-train.4.16000.-1.4096.h5.tmp \\\n",
            "\t--scale 4 \\\n",
            "\t--sr 16000 \\\n",
            "\t--dimension -1 \\\n",
            "\t--stride 4096 \\\n",
            "\t--interpolate \\\n",
            "\t--low-pass\n",
            "100\n",
            "0/100\n",
            "10/100\n",
            "20/100\n",
            "30/100\n",
            "40/100\n",
            "50/100\n",
            "60/100\n",
            "70/100\n",
            "80/100\n",
            "90/100\n",
            "mv vctk-speaker1-train.4.16000.-1.4096.h5.tmp vctk-speaker1-train.4.16000.-1.4096.h5\n",
            "python ../prep_valentini.py \\\n",
            "\t--file-list valentini-val-files.txt \\\n",
            "\t--in-dir /content/drive/MyDrive/bwe/data/clean_validset_16k \\\n",
            "\t--out vctk-speaker1-val.4.16000.-1.4096.h5.tmp \\\n",
            "\t--scale 4 \\\n",
            "\t--sr 16000 \\\n",
            "\t--dimension -1 \\\n",
            "\t--stride 4096 \\\n",
            "\t--interpolate \\\n",
            "\t--low-pass\n",
            "20\n",
            "0/20\n",
            "10/20\n",
            "mv vctk-speaker1-val.4.16000.-1.4096.h5.tmp vctk-speaker1-val.4.16000.-1.4096.h5\n",
            "make[1]: Leaving directory '/content/tfilm/data/vctk/valentini'\n"
          ]
        }
      ]
    },
    {
      "cell_type": "code",
      "source": [
        "cd ../../.."
      ],
      "metadata": {
        "colab": {
          "base_uri": "https://localhost:8080/"
        },
        "id": "QCEha9--KEEC",
        "outputId": "3bb6bd51-309c-4434-fbdf-940e3ee204d1"
      },
      "execution_count": null,
      "outputs": [
        {
          "output_type": "stream",
          "name": "stdout",
          "text": [
            "/content/tfilm\n"
          ]
        }
      ]
    },
    {
      "cell_type": "code",
      "source": [
        "cd src/"
      ],
      "metadata": {
        "colab": {
          "base_uri": "https://localhost:8080/"
        },
        "id": "KTYvKPXmKl1i",
        "outputId": "ba231f35-6592-455d-b2c4-93d8f2363234"
      },
      "execution_count": null,
      "outputs": [
        {
          "output_type": "stream",
          "name": "stdout",
          "text": [
            "/content/tfilm/src\n"
          ]
        }
      ]
    },
    {
      "cell_type": "code",
      "source": [
        "!ls -l --block-size=M"
      ],
      "metadata": {
        "colab": {
          "base_uri": "https://localhost:8080/"
        },
        "id": "PWqpE9dBjiqE",
        "outputId": "b5944060-0157-4d42-d2ed-a52ab77f1d01"
      },
      "execution_count": null,
      "outputs": [
        {
          "output_type": "stream",
          "name": "stdout",
          "text": [
            "total 183M\n",
            "-rw-r--r-- 1 root root 46M Jan 13 15:56 full-data-vctk-speaker1-train.4.16000.-1.4096\n",
            "-rw-r--r-- 1 root root 13M Jan 13 15:56 full-data-vctk-speaker1-val.4.16000.-1.4096\n",
            "-rw-r--r-- 1 root root 23M Jan 13 15:56 full-label-vctk-speaker1-train.4.16000.-1.4096\n",
            "-rw-r--r-- 1 root root  7M Jan 13 15:56 full-label-vctk-speaker1-val.4.16000.-1.4096\n",
            "-rw-r--r-- 1 root root  1M Jan 13 15:56 ID_list\n",
            "-rw-r--r-- 1 root root  1M Jan 13 15:55 ID_list_patches_8192_4\n",
            "-rw-r--r-- 1 root root  1M Jan 13 15:56 Makefile\n",
            "-rw-r--r-- 1 root root  1M Jan 13 15:50 valentini-train-files.txt\n",
            "-rw-r--r-- 1 root root  1M Jan 13 15:50 valentini-val-files.txt\n",
            "-rw-r--r-- 1 root root  1M Jan 13 15:56 vctk-speaker1-train.4.16000.-1.4096.h5\n",
            "-rw-r--r-- 1 root root 81M Jan 13 15:55 vctk-speaker1-train.4.16000.8192.4096.h5\n",
            "-rw-r--r-- 1 root root  1M Jan 13 15:56 vctk-speaker1-val.4.16000.-1.4096.h5\n",
            "-rw-r--r-- 1 root root 17M Jan 13 15:55 vctk-speaker1-val.4.16000.8192.4096.h5\n"
          ]
        }
      ]
    },
    {
      "cell_type": "code",
      "source": [
        "\n",
        "!python run.py train \\\n",
        "   --train ../data/vctk/valentini/vctk-speaker1-train.4.16000.8192.4096.h5 \\\n",
        "   --val ../data/vctk/valentini/vctk-speaker1-val.4.16000.8192.4096.h5 \\\n",
        "   -e 1 \\\n",
        "   --batch-size 64 \\\n",
        "   --lr 3e-4 \\\n",
        "   --logname valentini \\\n",
        "   --model audiotfilm \\\n",
        "   --r 4 \\\n",
        "   --layers 4 \\\n",
        "   --piano false \\\n",
        "   --pool_size 2 \\\n",
        "   --strides 2 \\\n",
        "   --full true"
      ],
      "metadata": {
        "colab": {
          "base_uri": "https://localhost:8080/"
        },
        "id": "GCLvEm-xLKoK",
        "outputId": "c8ce5830-af56-4e8f-8e63-1bd88d6df4c7"
      },
      "execution_count": null,
      "outputs": [
        {
          "output_type": "stream",
          "name": "stdout",
          "text": [
            "2022-01-13 16:00:25.185262: I tensorflow/stream_executor/platform/default/dso_loader.cc:49] Successfully opened dynamic library libcudart.so.11.0\n",
            "Using TensorFlow backend.\n",
            "training...\n",
            "List of arrays in input file: ['data', 'label']\n",
            "Shape of X: (1280, 8192, 1)\n",
            "Shape of Y: (1280, 8192, 1)\n",
            "List of arrays in input file: ['data', 'label']\n",
            "Shape of X: (256, 8192, 1)\n",
            "Shape of Y: (256, 8192, 1)\n",
            "audiotfilm\n",
            "2022-01-13 16:00:29.292972: I tensorflow/compiler/jit/xla_cpu_device.cc:41] Not creating XLA devices, tf_xla_enable_xla_devices not set\n",
            "2022-01-13 16:00:29.301830: I tensorflow/stream_executor/platform/default/dso_loader.cc:49] Successfully opened dynamic library libcuda.so.1\n",
            "2022-01-13 16:00:29.365270: I tensorflow/stream_executor/cuda/cuda_gpu_executor.cc:941] successful NUMA node read from SysFS had negative value (-1), but there must be at least one NUMA node, so returning NUMA node zero\n",
            "2022-01-13 16:00:29.366019: I tensorflow/core/common_runtime/gpu/gpu_device.cc:1720] Found device 0 with properties: \n",
            "pciBusID: 0000:00:04.0 name: Tesla T4 computeCapability: 7.5\n",
            "coreClock: 1.59GHz coreCount: 40 deviceMemorySize: 14.75GiB deviceMemoryBandwidth: 298.08GiB/s\n",
            "2022-01-13 16:00:29.366074: I tensorflow/stream_executor/platform/default/dso_loader.cc:49] Successfully opened dynamic library libcudart.so.11.0\n",
            "2022-01-13 16:00:29.408982: I tensorflow/stream_executor/platform/default/dso_loader.cc:49] Successfully opened dynamic library libcublas.so.11\n",
            "2022-01-13 16:00:29.409084: I tensorflow/stream_executor/platform/default/dso_loader.cc:49] Successfully opened dynamic library libcublasLt.so.11\n",
            "2022-01-13 16:00:29.428128: I tensorflow/stream_executor/platform/default/dso_loader.cc:49] Successfully opened dynamic library libcufft.so.10\n",
            "2022-01-13 16:00:29.443952: I tensorflow/stream_executor/platform/default/dso_loader.cc:49] Successfully opened dynamic library libcurand.so.10\n",
            "2022-01-13 16:00:29.573562: I tensorflow/stream_executor/platform/default/dso_loader.cc:49] Successfully opened dynamic library libcusolver.so.10\n",
            "2022-01-13 16:00:29.586920: I tensorflow/stream_executor/platform/default/dso_loader.cc:49] Successfully opened dynamic library libcusparse.so.11\n",
            "2022-01-13 16:00:29.591099: I tensorflow/stream_executor/platform/default/dso_loader.cc:49] Successfully opened dynamic library libcudnn.so.8\n",
            "2022-01-13 16:00:29.591289: I tensorflow/stream_executor/cuda/cuda_gpu_executor.cc:941] successful NUMA node read from SysFS had negative value (-1), but there must be at least one NUMA node, so returning NUMA node zero\n",
            "2022-01-13 16:00:29.592016: I tensorflow/stream_executor/cuda/cuda_gpu_executor.cc:941] successful NUMA node read from SysFS had negative value (-1), but there must be at least one NUMA node, so returning NUMA node zero\n",
            "2022-01-13 16:00:29.594895: I tensorflow/core/common_runtime/gpu/gpu_device.cc:1862] Adding visible gpu devices: 0\n",
            "2022-01-13 16:00:29.595346: I tensorflow/core/platform/cpu_feature_guard.cc:142] This TensorFlow binary is optimized with oneAPI Deep Neural Network Library (oneDNN) to use the following CPU instructions in performance-critical operations:  AVX2 FMA\n",
            "To enable them in other operations, rebuild TensorFlow with the appropriate compiler flags.\n",
            "2022-01-13 16:00:29.595538: I tensorflow/compiler/jit/xla_gpu_device.cc:99] Not creating XLA devices, tf_xla_enable_xla_devices not set\n",
            "2022-01-13 16:00:29.595685: I tensorflow/stream_executor/cuda/cuda_gpu_executor.cc:941] successful NUMA node read from SysFS had negative value (-1), but there must be at least one NUMA node, so returning NUMA node zero\n",
            "2022-01-13 16:00:29.596262: I tensorflow/core/common_runtime/gpu/gpu_device.cc:1720] Found device 0 with properties: \n",
            "pciBusID: 0000:00:04.0 name: Tesla T4 computeCapability: 7.5\n",
            "coreClock: 1.59GHz coreCount: 40 deviceMemorySize: 14.75GiB deviceMemoryBandwidth: 298.08GiB/s\n",
            "2022-01-13 16:00:29.596303: I tensorflow/stream_executor/platform/default/dso_loader.cc:49] Successfully opened dynamic library libcudart.so.11.0\n",
            "2022-01-13 16:00:29.596358: I tensorflow/stream_executor/platform/default/dso_loader.cc:49] Successfully opened dynamic library libcublas.so.11\n",
            "2022-01-13 16:00:29.596385: I tensorflow/stream_executor/platform/default/dso_loader.cc:49] Successfully opened dynamic library libcublasLt.so.11\n",
            "2022-01-13 16:00:29.596412: I tensorflow/stream_executor/platform/default/dso_loader.cc:49] Successfully opened dynamic library libcufft.so.10\n",
            "2022-01-13 16:00:29.596436: I tensorflow/stream_executor/platform/default/dso_loader.cc:49] Successfully opened dynamic library libcurand.so.10\n",
            "2022-01-13 16:00:29.596460: I tensorflow/stream_executor/platform/default/dso_loader.cc:49] Successfully opened dynamic library libcusolver.so.10\n",
            "2022-01-13 16:00:29.596484: I tensorflow/stream_executor/platform/default/dso_loader.cc:49] Successfully opened dynamic library libcusparse.so.11\n",
            "2022-01-13 16:00:29.596509: I tensorflow/stream_executor/platform/default/dso_loader.cc:49] Successfully opened dynamic library libcudnn.so.8\n",
            "2022-01-13 16:00:29.596602: I tensorflow/stream_executor/cuda/cuda_gpu_executor.cc:941] successful NUMA node read from SysFS had negative value (-1), but there must be at least one NUMA node, so returning NUMA node zero\n",
            "2022-01-13 16:00:29.597221: I tensorflow/stream_executor/cuda/cuda_gpu_executor.cc:941] successful NUMA node read from SysFS had negative value (-1), but there must be at least one NUMA node, so returning NUMA node zero\n",
            "2022-01-13 16:00:29.597880: I tensorflow/core/common_runtime/gpu/gpu_device.cc:1862] Adding visible gpu devices: 0\n",
            "2022-01-13 16:00:29.599434: I tensorflow/stream_executor/platform/default/dso_loader.cc:49] Successfully opened dynamic library libcudart.so.11.0\n",
            "2022-01-13 16:00:31.076282: I tensorflow/core/common_runtime/gpu/gpu_device.cc:1261] Device interconnect StreamExecutor with strength 1 edge matrix:\n",
            "2022-01-13 16:00:31.076333: I tensorflow/core/common_runtime/gpu/gpu_device.cc:1267]      0 \n",
            "2022-01-13 16:00:31.076350: I tensorflow/core/common_runtime/gpu/gpu_device.cc:1280] 0:   N \n",
            "2022-01-13 16:00:31.080133: I tensorflow/stream_executor/cuda/cuda_gpu_executor.cc:941] successful NUMA node read from SysFS had negative value (-1), but there must be at least one NUMA node, so returning NUMA node zero\n",
            "2022-01-13 16:00:31.080856: I tensorflow/stream_executor/cuda/cuda_gpu_executor.cc:941] successful NUMA node read from SysFS had negative value (-1), but there must be at least one NUMA node, so returning NUMA node zero\n",
            "2022-01-13 16:00:31.081435: I tensorflow/stream_executor/cuda/cuda_gpu_executor.cc:941] successful NUMA node read from SysFS had negative value (-1), but there must be at least one NUMA node, so returning NUMA node zero\n",
            "2022-01-13 16:00:31.081958: W tensorflow/core/common_runtime/gpu/gpu_bfc_allocator.cc:39] Overriding allow_growth setting because the TF_FORCE_GPU_ALLOW_GROWTH environment variable is set. Original config value was 0.\n",
            "2022-01-13 16:00:31.082008: I tensorflow/core/common_runtime/gpu/gpu_device.cc:1406] Created TensorFlow device (/job:localhost/replica:0/task:0/device:GPU:0 with 13968 MB memory) -> physical GPU (device: 0, name: Tesla T4, pci bus id: 0000:00:04.0, compute capability: 7.5)\n",
            "building model...\n",
            "2022-01-13 16:00:31.172738: I tensorflow/compiler/jit/xla_gpu_device.cc:99] Not creating XLA devices, tf_xla_enable_xla_devices not set\n",
            "2022-01-13 16:00:31.172962: I tensorflow/stream_executor/cuda/cuda_gpu_executor.cc:941] successful NUMA node read from SysFS had negative value (-1), but there must be at least one NUMA node, so returning NUMA node zero\n",
            "2022-01-13 16:00:31.173551: I tensorflow/core/common_runtime/gpu/gpu_device.cc:1720] Found device 0 with properties: \n",
            "pciBusID: 0000:00:04.0 name: Tesla T4 computeCapability: 7.5\n",
            "coreClock: 1.59GHz coreCount: 40 deviceMemorySize: 14.75GiB deviceMemoryBandwidth: 298.08GiB/s\n",
            "2022-01-13 16:00:31.173600: I tensorflow/stream_executor/platform/default/dso_loader.cc:49] Successfully opened dynamic library libcudart.so.11.0\n",
            "2022-01-13 16:00:31.173663: I tensorflow/stream_executor/platform/default/dso_loader.cc:49] Successfully opened dynamic library libcublas.so.11\n",
            "2022-01-13 16:00:31.173687: I tensorflow/stream_executor/platform/default/dso_loader.cc:49] Successfully opened dynamic library libcublasLt.so.11\n",
            "2022-01-13 16:00:31.173711: I tensorflow/stream_executor/platform/default/dso_loader.cc:49] Successfully opened dynamic library libcufft.so.10\n",
            "2022-01-13 16:00:31.173733: I tensorflow/stream_executor/platform/default/dso_loader.cc:49] Successfully opened dynamic library libcurand.so.10\n",
            "2022-01-13 16:00:31.173755: I tensorflow/stream_executor/platform/default/dso_loader.cc:49] Successfully opened dynamic library libcusolver.so.10\n",
            "2022-01-13 16:00:31.173777: I tensorflow/stream_executor/platform/default/dso_loader.cc:49] Successfully opened dynamic library libcusparse.so.11\n",
            "2022-01-13 16:00:31.173805: I tensorflow/stream_executor/platform/default/dso_loader.cc:49] Successfully opened dynamic library libcudnn.so.8\n",
            "2022-01-13 16:00:31.173895: I tensorflow/stream_executor/cuda/cuda_gpu_executor.cc:941] successful NUMA node read from SysFS had negative value (-1), but there must be at least one NUMA node, so returning NUMA node zero\n",
            "2022-01-13 16:00:31.174461: I tensorflow/stream_executor/cuda/cuda_gpu_executor.cc:941] successful NUMA node read from SysFS had negative value (-1), but there must be at least one NUMA node, so returning NUMA node zero\n",
            "2022-01-13 16:00:31.174968: I tensorflow/core/common_runtime/gpu/gpu_device.cc:1862] Adding visible gpu devices: 0\n",
            "2022-01-13 16:00:31.175012: I tensorflow/core/common_runtime/gpu/gpu_device.cc:1261] Device interconnect StreamExecutor with strength 1 edge matrix:\n",
            "2022-01-13 16:00:31.175026: I tensorflow/core/common_runtime/gpu/gpu_device.cc:1267]      0 \n",
            "2022-01-13 16:00:31.175036: I tensorflow/core/common_runtime/gpu/gpu_device.cc:1280] 0:   N \n",
            "2022-01-13 16:00:31.175140: I tensorflow/stream_executor/cuda/cuda_gpu_executor.cc:941] successful NUMA node read from SysFS had negative value (-1), but there must be at least one NUMA node, so returning NUMA node zero\n",
            "2022-01-13 16:00:31.175770: I tensorflow/stream_executor/cuda/cuda_gpu_executor.cc:941] successful NUMA node read from SysFS had negative value (-1), but there must be at least one NUMA node, so returning NUMA node zero\n",
            "2022-01-13 16:00:31.176345: I tensorflow/core/common_runtime/gpu/gpu_device.cc:1406] Created TensorFlow device (/job:localhost/replica:0/task:0/device:GPU:0 with 13968 MB memory) -> physical GPU (device: 0, name: Tesla T4, pci bus id: 0000:00:04.0, compute capability: 7.5)\n",
            "WARNING:tensorflow:Layer lstm will not use cuDNN kernel since it doesn't meet the cuDNN kernel criteria. It will use generic GPU kernel as fallback when running on GPU\n",
            "D-Block:  (None, None, 128)\n",
            "WARNING:tensorflow:Layer lstm_1 will not use cuDNN kernel since it doesn't meet the cuDNN kernel criteria. It will use generic GPU kernel as fallback when running on GPU\n",
            "D-Block:  (None, None, 256)\n",
            "WARNING:tensorflow:Layer lstm_2 will not use cuDNN kernel since it doesn't meet the cuDNN kernel criteria. It will use generic GPU kernel as fallback when running on GPU\n",
            "D-Block:  (None, None, 512)\n",
            "WARNING:tensorflow:Layer lstm_3 will not use cuDNN kernel since it doesn't meet the cuDNN kernel criteria. It will use generic GPU kernel as fallback when running on GPU\n",
            "D-Block:  (None, None, 512)\n",
            "WARNING:tensorflow:Layer lstm_4 will not use cuDNN kernel since it doesn't meet the cuDNN kernel criteria. It will use generic GPU kernel as fallback when running on GPU\n",
            "WARNING:tensorflow:Layer lstm_5 will not use cuDNN kernel since it doesn't meet the cuDNN kernel criteria. It will use generic GPU kernel as fallback when running on GPU\n",
            "U-Block:  (None, None, 1024)\n",
            "WARNING:tensorflow:Layer lstm_6 will not use cuDNN kernel since it doesn't meet the cuDNN kernel criteria. It will use generic GPU kernel as fallback when running on GPU\n",
            "U-Block:  (None, None, 1024)\n",
            "WARNING:tensorflow:Layer lstm_7 will not use cuDNN kernel since it doesn't meet the cuDNN kernel criteria. It will use generic GPU kernel as fallback when running on GPU\n",
            "U-Block:  (None, None, 512)\n",
            "WARNING:tensorflow:Layer lstm_8 will not use cuDNN kernel since it doesn't meet the cuDNN kernel criteria. It will use generic GPU kernel as fallback when running on GPU\n",
            "U-Block:  (None, None, 256)\n",
            "2022-01-13 16:00:33.315056: I tensorflow/compiler/mlir/mlir_graph_optimization_pass.cc:196] None of the MLIR optimization passes are enabled (registered 0 passes)\n",
            "2022-01-13 16:00:33.452608: I tensorflow/core/platform/profile_utils/cpu_utils.cc:112] CPU Frequency: 2199995000 Hz\n",
            "creating train_op with params: {'alg': 'adam', 'lr': 0.0003, 'b1': 0.9, 'b2': 0.999, 'batch_size': 64, 'layers': 4}\n",
            "WARNING:tensorflow:From /usr/local/lib/python3.7/dist-packages/tensorflow/python/util/tf_should_use.py:247: initialize_all_variables (from tensorflow.python.ops.variables) is deprecated and will be removed after 2017-03-02.\n",
            "Instructions for updating:\n",
            "Use `tf.global_variables_initializer` instead.\n",
            "2022-01-13 16:00:48.224483: W tensorflow/c/c_api.cc:326] Operation '{name:'generator/downsc_conv0/lstm/while' id:316 op device:{} def:{{{node generator/downsc_conv0/lstm/while}} = While[T=[DT_INT32, DT_INT32, DT_INT32, DT_VARIANT, DT_FLOAT, DT_FLOAT, DT_INT32, DT_VARIANT, DT_RESOURCE, DT_RESOURCE, DT_RESOURCE, DT_VARIANT, DT_VARIANT, DT_VARIANT, DT_VARIANT, DT_VARIANT, DT_VARIANT, DT_VARIANT, DT_VARIANT, DT_VARIANT, DT_VARIANT, DT_VARIANT, DT_VARIANT, DT_VARIANT, DT_VARIANT, DT_VARIANT, DT_VARIANT, DT_VARIANT, DT_VARIANT, DT_VARIANT, DT_VARIANT, DT_VARIANT, DT_VARIANT, DT_VARIANT, DT_VARIANT, DT_VARIANT, DT_VARIANT, DT_VARIANT, DT_VARIANT, DT_VARIANT, DT_VARIANT, DT_VARIANT, DT_VARIANT, DT_VARIANT, DT_VARIANT], _lower_using_switch_merge=true, _num_original_outputs=45, _read_only_resource_inputs=[8, 9, 10], body=generator_downsc_conv0_lstm_while_body_212[], cond=generator_downsc_conv0_lstm_while_cond_211[], output_shapes=[[], [], [], [], [?,128], [?,128], [], [], [], [], [], [], [], [], [], [], [], [], [], [], [], [], [], [], [], [], [], [], [], [], [], [], [], [], [], [], [], [], [], [], [], [], [], [], []], parallel_iterations=32](generator/downsc_conv0/lstm/while/loop_counter, generator/downsc_conv0/lstm/while/maximum_iterations, generator/downsc_conv0/lstm/time, generator/downsc_conv0/lstm/TensorArrayV2_1, generator/downsc_conv0/lstm/zeros, generator/downsc_conv0/lstm/zeros_1, generator/downsc_conv0/lstm/strided_slice_1, generator/downsc_conv0/lstm/TensorArrayUnstack/TensorListFromTensor, generator/downsc_conv0/lstm/lstm_cell/kernel, generator/downsc_conv0/lstm/lstm_cell/recurrent_kernel, generator/downsc_conv0/lstm/lstm_cell/bias, generator/downsc_conv0/lstm/while/EmptyTensorList, generator/downsc_conv0/lstm/while/EmptyTensorList_1, generator/downsc_conv0/lstm/while/EmptyTensorList_2, generator/downsc_conv0/lstm/while/EmptyTensorList_3, generator/downsc_conv0/lstm/while/EmptyTensorList_4, generator/downsc_conv0/lstm/while/EmptyTensorList_5, generator/downsc_conv0/lstm/while/EmptyTensorList_6, generator/downsc_conv0/lstm/while/EmptyTensorList_7, generator/downsc_conv0/lstm/while/EmptyTensorList_8, generator/downsc_conv0/lstm/while/EmptyTensorList_9, generator/downsc_conv0/lstm/while/EmptyTensorList_10, generator/downsc_conv0/lstm/while/EmptyTensorList_11, generator/downsc_conv0/lstm/while/EmptyTensorList_12, generator/downsc_conv0/lstm/while/EmptyTensorList_13, generator/downsc_conv0/lstm/while/EmptyTensorList_14, generator/downsc_conv0/lstm/while/EmptyTensorList_15, generator/downsc_conv0/lstm/while/EmptyTensorList_16, generator/downsc_conv0/lstm/while/EmptyTensorList_17, generator/downsc_conv0/lstm/while/EmptyTensorList_18, generator/downsc_conv0/lstm/while/EmptyTensorList_19, generator/downsc_conv0/lstm/while/EmptyTensorList_20, generator/downsc_conv0/lstm/while/EmptyTensorList_21, generator/downsc_conv0/lstm/while/EmptyTensorList_22, generator/downsc_conv0/lstm/while/EmptyTensorList_23, generator/downsc_conv0/lstm/while/EmptyTensorList_24, generator/downsc_conv0/lstm/while/EmptyTensorList_25, generator/downsc_conv0/lstm/while/EmptyTensorList_26, generator/downsc_conv0/lstm/while/EmptyTensorList_27, generator/downsc_conv0/lstm/while/EmptyTensorList_28, generator/downsc_conv0/lstm/while/EmptyTensorList_29, generator/downsc_conv0/lstm/while/EmptyTensorList_30, generator/downsc_conv0/lstm/while/EmptyTensorList_31, generator/downsc_conv0/lstm/while/EmptyTensorList_32, generator/downsc_conv0/lstm/while/EmptyTensorList_33)}}' was changed by setting attribute after it was run by a session. This mutation will have no effect, and will trigger an error in the future. Either don't modify nodes after running them or create a new session.\n",
            "Parameters: 68221186\n",
            "2022-01-13 16:01:05.215389: I tensorflow/stream_executor/platform/default/dso_loader.cc:49] Successfully opened dynamic library libcublas.so.11\n",
            "2022-01-13 16:01:06.514481: I tensorflow/stream_executor/platform/default/dso_loader.cc:49] Successfully opened dynamic library libcublasLt.so.11\n",
            "2022-01-13 16:01:06.612505: I tensorflow/stream_executor/platform/default/dso_loader.cc:49] Successfully opened dynamic library libcudnn.so.8\n",
            "Epoch 1 of 1 took 126.486s (20 minibatches)\n",
            "  training l2_loss/segsnr/LSD:\t\t0.011030\t14.086257\t6.138860\n",
            "  validation l2_loss/segsnr/LSD:\t\t0.012906\t13.769229\t6.617896\n",
            "path: /content/tfilm/src/models\n",
            "path: /content/tfilm/src\n",
            "Full SNR: 491.2675476074219\n"
          ]
        }
      ]
    }
  ]
}